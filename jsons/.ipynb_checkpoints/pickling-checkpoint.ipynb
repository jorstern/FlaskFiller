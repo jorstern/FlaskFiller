{
 "cells": [
  {
   "cell_type": "code",
   "execution_count": 1,
   "metadata": {
    "collapsed": true
   },
   "outputs": [],
   "source": [
    "import json\n",
    "import pickle\n",
    "import numpy as np"
   ]
  },
  {
   "cell_type": "code",
   "execution_count": 2,
   "metadata": {
    "collapsed": false
   },
   "outputs": [],
   "source": [
    "with open('ingredients.json', 'r') as fr:\n",
    "    ingr_list = json.load(fr)\n",
    "    \n",
    "with open('clean_data_revised_names.json', 'r') as fr:\n",
    "    drink_list = json.load(fr)\n",
    "\n",
    "#print(ingr_list)\n",
    "#def create_ingr_array\n",
    "\n",
    "#ingr_nplst = np.array(ingr_list)\n",
    "#print(ingr_nplst)\n",
    "\n",
    "#print(drink_list)"
   ]
  },
  {
   "cell_type": "code",
   "execution_count": 3,
   "metadata": {
    "collapsed": false
   },
   "outputs": [],
   "source": [
    "#index = np.where(ingr_nplst=='Tang')\n",
    "#print(index)"
   ]
  },
  {
   "cell_type": "code",
   "execution_count": 4,
   "metadata": {
    "collapsed": true
   },
   "outputs": [],
   "source": [
    "ingr_to_num = {}\n",
    "i=0\n",
    "for ingr in ingr_list:\n",
    "    ingr_to_num[ingr] = i\n",
    "    i=i+1"
   ]
  },
  {
   "cell_type": "code",
   "execution_count": 5,
   "metadata": {
    "collapsed": false
   },
   "outputs": [],
   "source": [
    "#print(ingr_dic)"
   ]
  },
  {
   "cell_type": "code",
   "execution_count": 6,
   "metadata": {
    "collapsed": false
   },
   "outputs": [],
   "source": [
    "drink_to_num = {}\n",
    "num_to_drink = {}\n",
    "j=0\n",
    "for k,v in drink_list.items():\n",
    "    drink_to_num[k] = j\n",
    "    num_to_drink[j] = k\n",
    "    j=j+1\n",
    "#print(num_to_drink)"
   ]
  },
  {
   "cell_type": "code",
   "execution_count": 7,
   "metadata": {
    "collapsed": false
   },
   "outputs": [
    {
     "name": "stdout",
     "output_type": "stream",
     "text": [
      "[[0. 0. 0. ... 0. 0. 0.]\n",
      " [0. 0. 0. ... 0. 0. 0.]\n",
      " [0. 0. 0. ... 0. 0. 0.]\n",
      " ...\n",
      " [0. 0. 0. ... 0. 0. 0.]\n",
      " [0. 0. 0. ... 0. 0. 0.]\n",
      " [0. 0. 0. ... 0. 0. 0.]]\n"
     ]
    }
   ],
   "source": [
    "#let's make the drink by ingredients numpy array, so we can eventually pickle it\n",
    "drink_ingr = np.zeros((len(drink_to_num), len(ingr_to_num)))\n",
    "for i in range(len(drink_to_num)):\n",
    "    curr_ingredients = drink_list[num_to_drink[i]]\n",
    "    #for j in range(len(ingr_to_num)):\n",
    "    for ingredient in curr_ingredients:\n",
    "        num_ingredient = ingr_to_num[ingredient[0]]\n",
    "        drink_ingr[i][num_ingredient] = 1\n",
    "print(drink_ingr)"
   ]
  },
  {
   "cell_type": "code",
   "execution_count": 8,
   "metadata": {
    "collapsed": true
   },
   "outputs": [],
   "source": [
    "def build_movie_sims_jac(n_mov,input_data):\n",
    "    \"\"\"Returns a movie_sims_jac matrix of size (num_movies,num_movies) where for (i,j) :\n",
    "        [i,j] should be the jaccard similarity between the category sets for movies i and j\n",
    "        such that movie_sims_jac[i,j] = movie_sims_jac[j,i]. \n",
    "        \n",
    "    Note: Movies sometimes contain *duplicate* categories! You should only count a category once\n",
    "    \n",
    "    Params: {n_mov: Integer,\n",
    "             input_data: List<Dictionary>}\n",
    "    Returns: Numpy Array \n",
    "    \"\"\"\n",
    "    # YOUR CODE HERE\n",
    "    \n",
    "    final_mat = np.zeros((n_mov,n_mov))\n",
    "    \n",
    "    for i in range(n_mov):\n",
    "        cat1 = set(input_data[i]['categories'])\n",
    "        for j in range(n_mov):\n",
    "            cat2 = set(input_data[j]['categories'])\n",
    "            if i == j:\n",
    "                final_mat[i][j] = 1\n",
    "            else:\n",
    "                intersect = len(set.intersection(cat1, cat2))\n",
    "                union = len(set.union(cat1, cat2))\n",
    "                final_mat[i][j] = intersect/union\n",
    "                \n",
    "    return final_mat"
   ]
  },
  {
   "cell_type": "code",
   "execution_count": 9,
   "metadata": {
    "collapsed": true
   },
   "outputs": [],
   "source": [
    "def drink_to_index(dr):\n",
    "    return drink_to_num[dr]\n",
    "def index_to_drink(num):\n",
    "    return num_to_drink[num]\n",
    "    \n",
    "def ingredient_to_index(ingredient_str):\n",
    "    return ingr_to_num[ingredient_str]\n",
    "def number_list_of_drinks(ing_str_lst):\n",
    "    newlst = []\n",
    "    for ingr in ing_str_lst:\n",
    "        newlst.append(ingredient_to_index(ingr))     \n",
    "    return newlst\n",
    "\n",
    "def get_ingredients_for_drink(drink_num, drink_lst):\n",
    "    #print(drink_num)\n",
    "    curr_ingredients = drink_lst[index_to_drink(drink_num)]\n",
    "    final = []\n",
    "    for ing in curr_ingredients:\n",
    "        final.append(ingredient_to_index(ing[0]))\n",
    "    return final\n",
    "\n",
    "#returns a numpy array of 1 by size of drink_list. each entry is the jaccard similarity between the user input and drink\n",
    "def drink_jaccard_sim(user_ingredients_lst, drink_lst):\n",
    "    final_mat = np.zeros(len(drink_lst))\n",
    "    #cat1 will be the user set. It should just have a list of numbers that correspond to drinks\n",
    "    cat1 = set(number_list_of_drinks(user_ingredients_lst))\n",
    "    for i in range(len(drink_lst)):\n",
    "        #cat2 will be the ingredients of each individual drink\n",
    "        cat2 = set(get_ingredients_for_drink(i, drink_lst))\n",
    "        #do the jaccard\n",
    "        intersect = len(set.intersection(cat1, cat2))\n",
    "        union = len(set.union(cat1, cat2))\n",
    "        final_mat[i] = intersect/union\n",
    "    return final_mat\n",
    "    "
   ]
  },
  {
   "cell_type": "code",
   "execution_count": 10,
   "metadata": {
    "collapsed": false
   },
   "outputs": [
    {
     "name": "stdout",
     "output_type": "stream",
     "text": [
      "[0.         0.         0.         ... 0.03571429 0.         0.        ]\n"
     ]
    }
   ],
   "source": [
    "sample_ingredient_list = [\"Banana liqueur\",\n",
    "\"Banana rum\",\n",
    "\"Banana syrup\",\n",
    "\"Batida de Coco\",\n",
    "\"Battery\",\n",
    "\"Beef bouillon\",\n",
    "\"Beer\",\n",
    "\"Berries\",\n",
    "\"Bitter lemon\",\n",
    "\"Bitters\",\n",
    "\"Black Sambuca\",\n",
    "\"Black pepper\",\n",
    "\"Black rum\",\n",
    "\"Black vodka\",\n",
    "\"Blackberries\",\n",
    "\"Blackberry brandy\",\n",
    "\"Blackberry schnapps\",\n",
    "\"Blackcurrant cordial\",\n",
    "\"Blackcurrant schnapps\",\n",
    "\"Blackcurrant squash\",\n",
    "\"Blackcurrant vodka\",\n",
    "\"Blended whiskey\",\n",
    "\"Bloody mary mix\",\n",
    "\"Blue Curacao\",\n",
    "\"Blueberries\",\n",
    "\"Blueberry schnapps\"]\n",
    "\n",
    "sim_lst = drink_jaccard_sim(sample_ingredient_list, drink_list)\n",
    "print(sim_lst)"
   ]
  },
  {
   "cell_type": "code",
   "execution_count": 11,
   "metadata": {
    "collapsed": false
   },
   "outputs": [
    {
     "name": "stdout",
     "output_type": "stream",
     "text": [
      "[1196 4964 5528 5500 4016 2888 5029 1478  659 4401]\n",
      "['Rum Runner #2', 'Blackula', 'Black and Blue', 'Fox River Cocktail', 'Fluxuation Cocktail', 'Smurf fart', 'Blue Bay', 'Fiery Blue Mustang', 'Bazooka Joe', 'Black and Blue #2']\n"
     ]
    }
   ],
   "source": [
    "def get_top_k_drinks(lst, k):\n",
    "    #lst should have a list of ranked values, just need to do an argsort for the best ones\n",
    "    sorted_lst = lst.argsort()[-k:][::-1]\n",
    "    print(sorted_lst)\n",
    "    top_drinks = []\n",
    "    for drink in sorted_lst:\n",
    "        top_drinks.append(index_to_drink(drink))\n",
    "    return top_drinks\n",
    "\n",
    "thing = get_top_k_drinks(sim_lst, 10)\n",
    "print(thing)"
   ]
  },
  {
   "cell_type": "code",
   "execution_count": 13,
   "metadata": {
    "collapsed": true
   },
   "outputs": [],
   "source": [
    "pickle.dump(ingr_list, open( \"ingr_lst_pickle.p\", \"wb\" ) )\n",
    "pickle.dump(drink_ingr, open( \"drink_ingr_pickle.p\", \"wb\" ) )\n",
    "pickle.dump(drink_list, open( \"drink_dic_pickle.p\", \"wb\" ) )"
   ]
  },
  {
   "cell_type": "code",
   "execution_count": null,
   "metadata": {
    "collapsed": true
   },
   "outputs": [],
   "source": []
  },
  {
   "cell_type": "code",
   "execution_count": null,
   "metadata": {
    "collapsed": true
   },
   "outputs": [],
   "source": []
  }
 ],
 "metadata": {
  "kernelspec": {
   "display_name": "venv",
   "language": "python",
   "name": "venv"
  },
  "language_info": {
   "codemirror_mode": {
    "name": "ipython",
    "version": 3
   },
   "file_extension": ".py",
   "mimetype": "text/x-python",
   "name": "python",
   "nbconvert_exporter": "python",
   "pygments_lexer": "ipython3",
   "version": "3.5.2"
  }
 },
 "nbformat": 4,
 "nbformat_minor": 0
}
